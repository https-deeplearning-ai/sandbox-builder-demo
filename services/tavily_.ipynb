{
 "cells": [
  {
   "cell_type": "code",
   "execution_count": null,
   "id": "e4247612-c8bb-49cb-a279-ef392f2f5098",
   "metadata": {},
   "outputs": [],
   "source": [
    "import os\n",
    "from tavily import TavilyClient\n",
    "\n",
    "# Step 1. Instantiating your TavilyClient\n",
    "tavily_client = TavilyClient(api_key=os.getenv(\"TAVILY_API_KEY\"), api_base_url=os.getenv(\"DLAI_TAVILY_BASE_URL\"))\n",
    "\n",
    "# Step 2. Executing a simple search query\n",
    "response = tavily_client.search(\"Who is Leo Messi?\")\n",
    "\n",
    "# Step 3. That's it! You've done a Tavily Search!\n",
    "print(response)"
   ]
  },
  {
   "cell_type": "code",
   "execution_count": null,
   "id": "d1ed58d7-2955-462d-8ef5-dc546f875e10",
   "metadata": {},
   "outputs": [],
   "source": []
  }
 ],
 "metadata": {
  "kernelspec": {
   "display_name": "Python 3 (ipykernel)",
   "language": "python",
   "name": "python3"
  },
  "language_info": {
   "codemirror_mode": {
    "name": "ipython",
    "version": 3
   },
   "file_extension": ".py",
   "mimetype": "text/x-python",
   "name": "python",
   "nbconvert_exporter": "python",
   "pygments_lexer": "ipython3",
   "version": "3.12.2"
  }
 },
 "nbformat": 4,
 "nbformat_minor": 5
}
