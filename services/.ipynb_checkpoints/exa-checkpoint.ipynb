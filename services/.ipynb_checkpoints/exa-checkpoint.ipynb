{
 "cells": [
  {
   "cell_type": "code",
   "execution_count": null,
   "id": "c04c7722-92fb-40be-9920-ebfee9854e4e",
   "metadata": {},
   "outputs": [],
   "source": [
    "import os\n",
    "from exa_py import Exa\n",
    "\n",
    "exa = Exa(api_key=os.environ['EXA_API_KEY'], base_url=os.environ['EXA_BASE_URL'])\n",
    "exa.search(\"crocodile and alligator difference\")"
   ]
  },
  {
   "cell_type": "code",
   "execution_count": null,
   "id": "9c586efc-734c-455c-82d3-bdd8edaba115",
   "metadata": {},
   "outputs": [],
   "source": [
    "## crewai-tools\n",
    "from crewai_tools import EXASearchTool\n",
    "tool = EXASearchTool(api_key=os.environ['EXA_API_KEY'], base_url=os.environ['EXA_BASE_URL'])\n",
    "tool.run('first person to north pole')"
   ]
  },
  {
   "cell_type": "code",
   "execution_count": null,
   "id": "3e15d9cb-ec0d-429b-b779-38fa02d60d55",
   "metadata": {},
   "outputs": [],
   "source": []
  }
 ],
 "metadata": {
  "kernelspec": {
   "display_name": "Python 3 (ipykernel)",
   "language": "python",
   "name": "python3"
  },
  "language_info": {
   "codemirror_mode": {
    "name": "ipython",
    "version": 3
   },
   "file_extension": ".py",
   "mimetype": "text/x-python",
   "name": "python",
   "nbconvert_exporter": "python",
   "pygments_lexer": "ipython3",
   "version": "3.12.7"
  }
 },
 "nbformat": 4,
 "nbformat_minor": 5
}
