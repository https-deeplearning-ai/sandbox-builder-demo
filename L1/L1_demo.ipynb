{
 "cells": [
  {
   "cell_type": "code",
   "execution_count": null,
   "id": "777d6eab",
   "metadata": {
    "vscode": {
     "languageId": "plaintext"
    }
   },
   "outputs": [],
   "source": [
    "# Step 1: Confirm TensorFlow installation and version\n",
    "import tensorflow as tf\n",
    "\n",
    "print(\"TensorFlow version:\", tf.__version__)\n",
    "\n",
    "\n",
    "# Step 2: Check for available devices (CPU and GPU)\n",
    "\n",
    "gpus = tf.config.list_physical_devices('GPU')\n",
    "cpus = tf.config.list_physical_devices('CPU')\n",
    "print(\"CPUs:\", cpus)\n",
    "print(\"GPUs:\", gpus)\n",
    "\n",
    "\n",
    "# Step 3: Run a simple computation to show TF works\n",
    "\n",
    "a = tf.constant([[1.0, 2.0], [3.0, 4.0]])\n",
    "b = tf.constant([[5.0, 6.0], [7.0, 8.0]])\n",
    "c = tf.matmul(a, b)\n",
    "print(\"Matrix multiplication result:\\n\", c)\n",
    "\n",
    "\n",
    "# Step 4: Force a computation on GPU (if available)\n",
    "# By default, TensorFlow chooses GPU when present.\n",
    "\n",
    "if gpus:\n",
    "    with tf.device('/GPU:0'):\n",
    "        x = tf.random.normal([1000, 1000])\n",
    "        y = tf.random.normal([1000, 1000])\n",
    "        z = tf.matmul(x, y)  # heavy computation\n",
    "    print(\"Computation done on GPU\")\n",
    "else:\n",
    "    print(\"No GPU detected. Computation ran on CPU\")"
   ]
  }
 ],
 "metadata": {
  "language_info": {
   "name": "python"
  }
 },
 "nbformat": 4,
 "nbformat_minor": 5
}
